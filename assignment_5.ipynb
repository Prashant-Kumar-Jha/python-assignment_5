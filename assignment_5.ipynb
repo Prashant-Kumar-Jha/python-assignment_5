{
 "cells": [
  {
   "cell_type": "code",
   "execution_count": null,
   "metadata": {},
   "outputs": [],
   "source": [
    "Q1-  What does an empty dictionary's code look like?\n",
    "\n",
    "ans -  Two curly brackets: {}"
   ]
  },
  {
   "cell_type": "code",
   "execution_count": 1,
   "metadata": {},
   "outputs": [],
   "source": [
    "dict ={ }"
   ]
  },
  {
   "cell_type": "code",
   "execution_count": null,
   "metadata": {},
   "outputs": [],
   "source": [
    "Q2 -  What is the value of a dictionary value with the key 'foo' and the value 42?\n",
    "\n",
    "ans - {'foo': 42}"
   ]
  },
  {
   "cell_type": "code",
   "execution_count": 2,
   "metadata": {},
   "outputs": [
    {
     "data": {
      "text/plain": [
       "{'foo': 42}"
      ]
     },
     "execution_count": 2,
     "metadata": {},
     "output_type": "execute_result"
    }
   ],
   "source": [
    "dict ={'foo':42}\n",
    "dict"
   ]
  },
  {
   "cell_type": "code",
   "execution_count": null,
   "metadata": {},
   "outputs": [],
   "source": [
    "Q3 - 3. What is the most significant distinction between a dictionary and a list?\n",
    "\n",
    "ans - The items stored in a dictionary are unordered, while the items in a list are ordered."
   ]
  },
  {
   "cell_type": "code",
   "execution_count": null,
   "metadata": {},
   "outputs": [],
   "source": [
    "Q4 - What happens if spam['foo'] is 'bar': 100 and you try to access it?\n",
    "\n",
    "ans - You get a KeyError error."
   ]
  },
  {
   "cell_type": "code",
   "execution_count": null,
   "metadata": {},
   "outputs": [],
   "source": [
    "Q5 - 5. What is the difference between the terms 'cat' in spam and 'cat' in spam if a dictionary is contained in spam?\n",
    "\n",
    "ans - There is no difference. The in operator checks whether a value exists as a key in the dictionary."
   ]
  },
  {
   "cell_type": "code",
   "execution_count": null,
   "metadata": {},
   "outputs": [],
   "source": [
    "Q6 - What is the function keys()?\n",
    "\n",
    "ans - The function keys or F keys are lined across the top of the keyboard and labeled F1 through F12"
   ]
  },
  {
   "cell_type": "code",
   "execution_count": null,
   "metadata": {},
   "outputs": [],
   "source": [
    "Q6 - 6. What is the difference between the terms 'cat' in spam and 'cat' in spam.values()\n",
    "        when a dictionary is contained in spam?\n",
    "\n",
    "ans - 'cat' in spam checks whether there is a 'cat' key in the dictionary, while 'cat' in spam.values() \n",
    "       checks whether there is a value'cat' for one of the keys in spam."
   ]
  },
  {
   "cell_type": "code",
   "execution_count": null,
   "metadata": {},
   "outputs": [],
   "source": [
    "Q7 - What is the quickest way to type the following code?\n",
    "\n",
    "ans - spam.setdefault('color', 'black')"
   ]
  },
  {
   "cell_type": "code",
   "execution_count": null,
   "metadata": {},
   "outputs": [],
   "source": [
    "Q8 - 8. How do you \"pretty print\" dictionary values using which module and function?\n",
    "\n",
    "ans -  pprint.pprint()\n"
   ]
  }
 ],
 "metadata": {
  "kernelspec": {
   "display_name": "Python 3",
   "language": "python",
   "name": "python3"
  },
  "language_info": {
   "codemirror_mode": {
    "name": "ipython",
    "version": 3
   },
   "file_extension": ".py",
   "mimetype": "text/x-python",
   "name": "python",
   "nbconvert_exporter": "python",
   "pygments_lexer": "ipython3",
   "version": "3.8.5"
  }
 },
 "nbformat": 4,
 "nbformat_minor": 4
}
